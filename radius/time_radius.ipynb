{
 "cells": [
  {
   "cell_type": "markdown",
   "id": "portable-radius",
   "metadata": {},
   "source": [
    "## Import dependecies and define fuctions"
   ]
  },
  {
   "cell_type": "code",
   "execution_count": 1,
   "id": "novel-jamaica",
   "metadata": {},
   "outputs": [],
   "source": [
    "import numpy as np\n",
    "import pandas as pd\n",
    "%matplotlib inline\n",
    "import matplotlib.pyplot as plt\n",
    "plt.style.use('seaborn-ticks')\n",
    "from scipy.optimize import curve_fit, fsolve\n",
    "from scipy.interpolate import make_interp_spline, BSpline\n",
    "from scipy import interpolate\n",
    "\n",
    "from sklearn.metrics import r2_score\n",
    "from sklearn.gaussian_process import GaussianProcessRegressor\n",
    "from sklearn.gaussian_process.kernels import RBF, ConstantKernel\n",
    "import warnings\n",
    "warnings.filterwarnings(\"ignore\")"
   ]
  },
  {
   "cell_type": "code",
   "execution_count": 2,
   "id": "minus-punishment",
   "metadata": {},
   "outputs": [],
   "source": [
    "# install lmfit regression module\n",
    "#! pip install lmfit\n",
    "from lmfit.models import ConstantModel, StepModel\n",
    "from lmfit import Model, Minimizer, Parameters, report_fit"
   ]
  },
  {
   "cell_type": "markdown",
   "id": "wrapped-interaction",
   "metadata": {},
   "source": []
  },
  {
   "cell_type": "markdown",
   "id": "retained-usage",
   "metadata": {},
   "source": [
    "## Import data and assign the x, y values "
   ]
  },
  {
   "cell_type": "code",
   "execution_count": 3,
   "id": "imported-wrestling",
   "metadata": {},
   "outputs": [
    {
     "name": "stdout",
     "output_type": "stream",
     "text": [
      "shape (8, 4)\n",
      "\n",
      "shape (6, 4)\n",
      "\n"
     ]
    },
    {
     "data": {
      "text/html": [
       "<div>\n",
       "<style scoped>\n",
       "    .dataframe tbody tr th:only-of-type {\n",
       "        vertical-align: middle;\n",
       "    }\n",
       "\n",
       "    .dataframe tbody tr th {\n",
       "        vertical-align: top;\n",
       "    }\n",
       "\n",
       "    .dataframe thead th {\n",
       "        text-align: right;\n",
       "    }\n",
       "</style>\n",
       "<table border=\"1\" class=\"dataframe\">\n",
       "  <thead>\n",
       "    <tr style=\"text-align: right;\">\n",
       "      <th></th>\n",
       "      <th>time_h</th>\n",
       "      <th>time_s</th>\n",
       "      <th>radius</th>\n",
       "      <th>radius_err</th>\n",
       "    </tr>\n",
       "  </thead>\n",
       "  <tbody>\n",
       "    <tr>\n",
       "      <th>2</th>\n",
       "      <td>1.0</td>\n",
       "      <td>3600</td>\n",
       "      <td>3.1541</td>\n",
       "      <td>1.337</td>\n",
       "    </tr>\n",
       "    <tr>\n",
       "      <th>3</th>\n",
       "      <td>4.0</td>\n",
       "      <td>14400</td>\n",
       "      <td>4.5570</td>\n",
       "      <td>1.732</td>\n",
       "    </tr>\n",
       "    <tr>\n",
       "      <th>4</th>\n",
       "      <td>16.0</td>\n",
       "      <td>57600</td>\n",
       "      <td>7.3270</td>\n",
       "      <td>1.986</td>\n",
       "    </tr>\n",
       "    <tr>\n",
       "      <th>5</th>\n",
       "      <td>64.0</td>\n",
       "      <td>230400</td>\n",
       "      <td>11.0430</td>\n",
       "      <td>3.073</td>\n",
       "    </tr>\n",
       "    <tr>\n",
       "      <th>6</th>\n",
       "      <td>256.0</td>\n",
       "      <td>921600</td>\n",
       "      <td>16.1720</td>\n",
       "      <td>4.213</td>\n",
       "    </tr>\n",
       "    <tr>\n",
       "      <th>7</th>\n",
       "      <td>1024.0</td>\n",
       "      <td>3686400</td>\n",
       "      <td>27.3580</td>\n",
       "      <td>6.635</td>\n",
       "    </tr>\n",
       "  </tbody>\n",
       "</table>\n",
       "</div>"
      ],
      "text/plain": [
       "   time_h   time_s   radius  radius_err\n",
       "2     1.0     3600   3.1541       1.337\n",
       "3     4.0    14400   4.5570       1.732\n",
       "4    16.0    57600   7.3270       1.986\n",
       "5    64.0   230400  11.0430       3.073\n",
       "6   256.0   921600  16.1720       4.213\n",
       "7  1024.0  3686400  27.3580       6.635"
      ]
     },
     "execution_count": 3,
     "metadata": {},
     "output_type": "execute_result"
    }
   ],
   "source": [
    "# import csv data\n",
    "df0= pd.read_csv(\"C:/Users/jeja9/APTanalysis/Interfacial_width/Re700/Radius/radius700.csv\") \n",
    "print(f\"shape {df0.shape}\\n\")\n",
    "df = df0.iloc[2:]\n",
    "print(f\"shape {df.shape}\\n\")\n",
    "df"
   ]
  },
  {
   "cell_type": "markdown",
   "id": "fatal-planning",
   "metadata": {},
   "source": [
    "## rate constant and exponent"
   ]
  },
  {
   "cell_type": "code",
   "execution_count": 4,
   "id": "acquired-cologne",
   "metadata": {},
   "outputs": [
    {
     "name": "stdout",
     "output_type": "stream",
     "text": [
      "[   3600   14400   57600  230400  921600 3686400]\n",
      "[ 3.15409955  4.557       7.327      11.043      16.172      27.358     ]\n",
      "[1.337 1.732 1.986 3.073 4.213 6.635]\n"
     ]
    }
   ],
   "source": [
    "# assigne x and y values\n",
    "x0 = df0['time_s'].to_numpy()\n",
    "y0 = df0['radius'].to_numpy()\n",
    "y0_err = df0['radius_err'].to_numpy()\n",
    "x = df['time_s'].to_numpy()\n",
    "y = df['radius'].to_numpy()\n",
    "y_err = df['radius_err'].to_numpy()\n",
    "print(x)\n",
    "print(y)\n",
    "print(y_err)"
   ]
  },
  {
   "cell_type": "code",
   "execution_count": 5,
   "id": "olive-documentary",
   "metadata": {},
   "outputs": [
    {
     "name": "stdout",
     "output_type": "stream",
     "text": [
      "Popt: [6.20000000e-03 3.28108117e-01 3.86909132e+02]\n",
      "pcov:  [[ 5.82920566e-06 -3.62474049e-05 -5.16293970e-01]\n",
      " [-3.62474049e-05  2.33112157e-04  3.17215007e+00]\n",
      " [-5.16293970e-01  3.17215007e+00  5.03148172e+04]]\n",
      "\n",
      "A = 0.006199999999999999 +/- 0.0024143747963273074\n",
      "p = 0.3281081168746532 +/- 0.015268010917452807\n",
      "to = 386.90913220773444 +/- 224.3096457112783\n",
      "R_2: 0.9965\n"
     ]
    },
    {
     "data": {
      "image/png": "[encoded data removed]",
      "text/plain": [
       "<Figure size 504x288 with 1 Axes>"
      ]
     },
     "metadata": {},
     "output_type": "display_data"
    },
    {
     "data": {
      "image/png": "[encoded data removed]",
      "text/plain": [
       "<Figure size 504x288 with 1 Axes>"
      ]
     },
     "metadata": {},
     "output_type": "display_data"
    }
   ],
   "source": [
    "# Define the opwer function\n",
    "# define a : rate_constant, b: exponent c:logistic Intercept\n",
    "\n",
    "def power(x, A, p, to):\n",
    "    return (A*(x-to)+(A*to)**(1/p))**p\n",
    "\n",
    "# fitting power plot with 2sigma\n",
    "popt, pcov = curve_fit(power, x, y, bounds=([0.00001, 0, 0], [0.0062, 2, 14400]), sigma=y_err) \n",
    "print(\"Popt:\", popt)\n",
    "print(\"pcov: \", pcov)\n",
    "print(\"\\nA =\", popt[0], \"+/-\", pcov[0,0]**0.5)\n",
    "print(\"p =\", popt[1], \"+/-\", pcov[1,1]**0.5)\n",
    "print(\"to =\", popt[2], \"+/-\", pcov[2,2]**0.5)\n",
    "\n",
    "A = popt[0]\n",
    "p = popt[1]\n",
    "to = popt[2]/3600\n",
    "\n",
    "\n",
    "# Calcualte the R_squared value\n",
    "best_fit = (A*(x-to)+(A*to)**(1/p))**p\n",
    "R_squared = round(r2_score(best_fit, y), 4)\n",
    "print(f\"R_2: {R_squared}\")\n",
    "\n",
    "# model_fit with fine scale\n",
    "xfine = np.linspace(900, 3686400, 100000) \n",
    "f2 = (A*(xfine-to)+(A*to)**(1/p))**p\n",
    "\n",
    "#time scale from second to hour\n",
    "\n",
    "x0b = x0/3600\n",
    "xfineb = xfine/3600\n",
    "\n",
    "fig, ax = plt.subplots(figsize=(7,4))\n",
    "#log-log\n",
    "#ax.loglog(x0b, y0, ['r.'], markersize=10)\n",
    "#ax.loglog(x2b, f2, 'b:', label=r'fitting')\n",
    "# linear-linear\n",
    "ax.errorbar(x0b, y0, y0_err, fmt='r.', markersize=10, elinewidth=1, capsize=2,label='experiment')\n",
    "ax.plot(xfineb, f2, 'b:', label=r'fitting')\n",
    "ax.legend(loc='best', fontsize=16)\n",
    "plt.xlabel(\"Time (hr)\", fontsize=16)\n",
    "plt.ylabel('Radius (nm)', fontsize=16)\n",
    "#plt.text(0,0, 'Sum of vales = %s\\n Total number of entries = %s\\n Avg= %s \\n Standard Deviation = %s' % (S, N, avg, sigma))\n",
    "ax.text(0.5, 0.3, r'$\\xi^2={}$'.format(R_squared), ha='center', va='center', transform=ax.transAxes, color=\"k\", fontsize=15)\n",
    "plt.show()\n",
    "\n",
    "fig, ax = plt.subplots(figsize=(7,4))\n",
    "ax.errorbar(x0b, y0, y0_err, fmt='r.', markersize=10, elinewidth=1, capsize=2,label='experiment')\n",
    "ax.plot(xfineb, f2, 'b:', label=r'fitting')\n",
    "plt.xlabel(\"Time (hr)\", fontsize=16)\n",
    "plt.ylabel('Radius (nm)', fontsize=16)\n",
    "plt.yscale(\"log\")\n",
    "plt.xscale(\"log\")\n",
    "plt.show()\n",
    "#plt.savefig(\"test.png\")"
   ]
  },
  {
   "cell_type": "markdown",
   "id": "underlying-browse",
   "metadata": {},
   "source": [
    "### plots for n =2, 2.4, 3, 4"
   ]
  },
  {
   "cell_type": "code",
   "execution_count": 6,
   "id": "friendly-trader",
   "metadata": {},
   "outputs": [
    {
     "name": "stdout",
     "output_type": "stream",
     "text": [
      "\n",
      "exponent value (1/p) = 2\n",
      "Popt: [2.89181118e-04 1.44000000e+04]\n",
      "pcov:  [[ 4.38996058e-09 -2.63187639e-01]\n",
      " [-2.63187639e-01  2.33063978e+07]]\n",
      "\n",
      "A = 0.0002891811182214535 +/- 6.625677764005216e-05\n",
      "to = 14399.999999999984 +/- 4827.670017650838\n",
      "R_2: 0.939\n",
      "\n",
      "exponent value (1/p) = 2.4\n",
      "Popt: [9.58447516e-04 3.80448138e+03]\n",
      "pcov:  [[ 2.73386412e-08 -1.35956179e-01]\n",
      " [-1.35956179e-01  1.03806966e+06]]\n",
      "\n",
      "A = 0.0009584475157724102 +/- 0.00016534400870427333\n",
      "to = 3804.4813820493623 +/- 1018.8570357524477\n",
      "R_2: 0.9768\n",
      "\n",
      "exponent value (1/p) = 3\n",
      "Popt: [5.49116104e-03 4.55973392e+02]\n",
      "pcov:  [[ 1.30780798e-07 -1.93617028e-02]\n",
      " [-1.93617028e-02  6.97473166e+03]]\n",
      "\n",
      "A = 0.0054911610392596386 +/- 0.0003616362781639324\n",
      "to = 455.97339192460294 +/- 83.514858890296\n",
      "R_2: 0.997\n",
      "\n",
      "exponent value (1/p) = 4\n",
      "Popt: [ 0.06023763 10.45931634]\n",
      "pcov:  [[ 3.58031422e-04 -7.28893381e+04]\n",
      " [-7.28893381e+04  6.28309832e+13]]\n",
      "\n",
      "A = 0.060237625327960294 +/- 0.01892171827162676\n",
      "to = 10.45931633617604 +/- 7926599.723315635\n",
      "R_2: 0.8502\n"
     ]
    },
    {
     "data": {
      "text/plain": [
       "Text(0, 0.5, '$<R>^p{} $')"
      ]
     },
     "execution_count": 6,
     "metadata": {},
     "output_type": "execute_result"
    },
    {
     "data": {
      "image/png": "[encoded data removed]",
      "text/plain": [
       "<Figure size 360x144 with 1 Axes>"
      ]
     },
     "metadata": {},
     "output_type": "display_data"
    },
    {
     "data": {
      "image/png": "[encoded data removed]",
      "text/plain": [
       "<Figure size 360x144 with 1 Axes>"
      ]
     },
     "metadata": {},
     "output_type": "display_data"
    },
    {
     "data": {
      "image/png": "[encoded data removed]",
      "text/plain": [
       "<Figure size 360x144 with 1 Axes>"
      ]
     },
     "metadata": {},
     "output_type": "display_data"
    },
    {
     "data": {
      "image/png": "[encoded data removed]",
      "text/plain": [
       "<Figure size 360x144 with 1 Axes>"
      ]
     },
     "metadata": {},
     "output_type": "display_data"
    }
   ],
   "source": [
    "#plot with n= 2, 2.4, 3, 4\n",
    "\n",
    "for i in [2, 2.4, 3, 4]:\n",
    "\n",
    "    # Define the opwer function\n",
    "    # define a : rate_constant, b: exponent c:logistic Intercept\n",
    "    print (\"\\nexponent value (1/p) =\", i)\n",
    "    p = 1/i\n",
    "    def power(x, A, to):\n",
    "        return (A*(x-to)+(A*to)**(1/p))**p\n",
    "\n",
    "    # fitting power plot with 2sigma\n",
    "    popt, pcov = curve_fit(power, x, y, bounds=([0,  0], [0.5, 14400]), sigma=y_err) \n",
    "    print(\"Popt:\", popt)\n",
    "    print(\"pcov: \", pcov)\n",
    "    print(\"\\nA =\", popt[0], \"+/-\", pcov[0,0]**0.5)\n",
    "    print(\"to =\", popt[1], \"+/-\", pcov[1,1]**0.5)\n",
    "\n",
    "\n",
    "    A = popt[0]\n",
    "    to = popt[1]\n",
    "\n",
    "    # Calcualte the R_squared value\n",
    "    best_fit = (A*(x-to)+(A*to)**(1/p))**p\n",
    "    R_squared = round(r2_score(best_fit, y), 4)\n",
    "    print(f\"R_2: {R_squared}\")\n",
    "\n",
    "    # model_fit with fine scale\n",
    "    xfine = np.linspace(900, 3686400, 100000) \n",
    "    f2 = (A*(xfine-to)+(A*to)**(1/p))**p\n",
    "\n",
    "    #time scale change from second to hour\n",
    "\n",
    "    x0b = x0/3600\n",
    "    xfineb = xfine/3600\n",
    "    \n",
    "    #factorial p for radius (fuction)\n",
    "    rescale_y0 = y0**i\n",
    "    rescale_y0err = ((((y0+y0_err)/2)**i)**2-(((y0-y0_err)/2)**i)**2)**0.5\n",
    "    rescale_f2 =f2**i\n",
    "    \n",
    "    fig, ax = plt.subplots(figsize=(5,2))\n",
    "    #log-log\n",
    "    #ax.loglog(x0b, y0, ['r.'], markersize=10)\n",
    "    #ax.loglog(x2b, f2, 'b:', label=r'fitting')\n",
    "    # linear-linear\n",
    "    ax.errorbar(x0b, rescale_y0, rescale_y0err, fmt='r.', markersize=10, elinewidth=1, capsize=2,label='experiment')\n",
    "    ax.plot(xfineb, rescale_f2, 'b:', label=r'fitting')\n",
    "    #ax.text(0, 28**i, r'p={}'.format(i), color=\"k\", fontsize=16)\n",
    "    # label in a defalut axes coords\n",
    "    ax.text(0.3, 0.87, r'p={}'.format(i), ha='center', va='center', transform=ax.transAxes, size=15, color='red')\n",
    "    ax.text(500, 15**i, r'$\\xi^2={}$'.format(R_squared), color=\"k\", fontsize=15)\n",
    "    plt.ticklabel_format(axis=\"y\", style=\"sci\", scilimits=(0,0))\n",
    "    plt.xticks(fontsize=12.5)\n",
    "    plt.yticks(fontsize=12.5)\n",
    "    \n",
    "plt.xlabel(\"Time (hr)\", fontsize=16)\n",
    "plt.ylabel(r'$<R>^p{} $', fontsize=16)"
   ]
  },
  {
   "cell_type": "code",
   "execution_count": 7,
   "id": "cathedral-measure",
   "metadata": {},
   "outputs": [],
   "source": [
    "# plot R_squre versus eponent value "
   ]
  },
  {
   "cell_type": "code",
   "execution_count": 8,
   "id": "spectacular-virgin",
   "metadata": {},
   "outputs": [
    {
     "name": "stdout",
     "output_type": "stream",
     "text": [
      "0.9964\n",
      "3.0831663326653307\n",
      "0.3243418914527137\n"
     ]
    },
    {
     "data": {
      "image/png": "[encoded data removed]",
      "text/plain": [
       "<Figure size 432x288 with 1 Axes>"
      ]
     },
     "metadata": {},
     "output_type": "display_data"
    }
   ],
   "source": [
    "#plot with n= 1.5-4\n",
    "# assigne x and y values\n",
    "x0 = df0['time_s'].to_numpy()\n",
    "y0 = df0['radius'].to_numpy()\n",
    "y0_err = df0['radius_err'].to_numpy()\n",
    "x = df['time_s'].to_numpy()\n",
    "y = df['radius'].to_numpy()\n",
    "y_err = df['radius_err'].to_numpy()\n",
    "\n",
    "rsq_dict ={}\n",
    "\n",
    "for i in np.linspace(1.5, 4, 500):\n",
    "\n",
    "    # Define the opwer function\n",
    "    # define a : rate_constant, b: exponent c:logistic Intercept\n",
    "    #print (\"\\nexponent value (1/p) =\", i)\n",
    "    p = 1/i\n",
    "    def power(x, A):\n",
    "        return A*(x)**p\n",
    "\n",
    "    # fitting power plot with 2sigma\n",
    "    popt, pcov = curve_fit(power, x, y, sigma=y_err) \n",
    "    #print(\"Popt:\", popt)\n",
    "    #print(\"pcov: \", pcov)\n",
    "    #print(\"\\nA =\", popt[0], \"+/-\", pcov[0,0]**0.5)\n",
    "    #print(\"to =\", popt[1], \"+/-\", pcov[1,1]**0.5)\n",
    "\n",
    "\n",
    "    A = popt[0]\n",
    "    #to = popt[1]\n",
    "\n",
    "    # Calcualte the R_squared value\n",
    "    best_fit = A*(x)**p\n",
    "    R_squared = round(r2_score(best_fit, y), 4)\n",
    "    #print(f\"R_2: {R_squared}\")\n",
    "    rsq_dict[i] = R_squared\n",
    "    # model_fit with fine scale\n",
    "    xfine = np.linspace(900, 3686400, 100000) \n",
    "    f2 = (A*(xfine-to)+(A*to)**(1/p))**p\n",
    "\n",
    "rsq_df=pd.DataFrame.from_dict(rsq_dict, orient='index',\n",
    "                       columns=['Rsquared'])\n",
    "\n",
    "print(rsq_df[\"Rsquared\"].max())\n",
    "print(rsq_df[\"Rsquared\"].idxmax())\n",
    "print(1/rsq_df[\"Rsquared\"].idxmax())\n",
    "rsq_df.plot(y='Rsquared', kind = 'line')\n",
    "plt.xlabel(\"Exponent(r)_value\", fontsize=16)\n",
    "plt.ylabel( \"R_squared_value\", fontsize=16)\n",
    "plt.margins(0.2)\n",
    "plt.show()\n"
   ]
  },
  {
   "cell_type": "code",
   "execution_count": 9,
   "id": "signal-brook",
   "metadata": {},
   "outputs": [
    {
     "data": {
      "text/html": [
       "<div>\n",
       "<style scoped>\n",
       "    .dataframe tbody tr th:only-of-type {\n",
       "        vertical-align: middle;\n",
       "    }\n",
       "\n",
       "    .dataframe tbody tr th {\n",
       "        vertical-align: top;\n",
       "    }\n",
       "\n",
       "    .dataframe thead th {\n",
       "        text-align: right;\n",
       "    }\n",
       "</style>\n",
       "<table border=\"1\" class=\"dataframe\">\n",
       "  <thead>\n",
       "    <tr style=\"text-align: right;\">\n",
       "      <th></th>\n",
       "      <th>Rsquared</th>\n",
       "    </tr>\n",
       "  </thead>\n",
       "  <tbody>\n",
       "    <tr>\n",
       "      <th>1.50000</th>\n",
       "      <td>0.8267</td>\n",
       "    </tr>\n",
       "    <tr>\n",
       "      <th>1.50501</th>\n",
       "      <td>0.8275</td>\n",
       "    </tr>\n",
       "    <tr>\n",
       "      <th>1.51002</th>\n",
       "      <td>0.8282</td>\n",
       "    </tr>\n",
       "    <tr>\n",
       "      <th>1.51503</th>\n",
       "      <td>0.8289</td>\n",
       "    </tr>\n",
       "    <tr>\n",
       "      <th>1.52004</th>\n",
       "      <td>0.8296</td>\n",
       "    </tr>\n",
       "    <tr>\n",
       "      <th>...</th>\n",
       "      <td>...</td>\n",
       "    </tr>\n",
       "    <tr>\n",
       "      <th>3.97996</th>\n",
       "      <td>0.8573</td>\n",
       "    </tr>\n",
       "    <tr>\n",
       "      <th>3.98497</th>\n",
       "      <td>0.8555</td>\n",
       "    </tr>\n",
       "    <tr>\n",
       "      <th>3.98998</th>\n",
       "      <td>0.8537</td>\n",
       "    </tr>\n",
       "    <tr>\n",
       "      <th>3.99499</th>\n",
       "      <td>0.8519</td>\n",
       "    </tr>\n",
       "    <tr>\n",
       "      <th>4.00000</th>\n",
       "      <td>0.8501</td>\n",
       "    </tr>\n",
       "  </tbody>\n",
       "</table>\n",
       "<p>500 rows × 1 columns</p>\n",
       "</div>"
      ],
      "text/plain": [
       "         Rsquared\n",
       "1.50000    0.8267\n",
       "1.50501    0.8275\n",
       "1.51002    0.8282\n",
       "1.51503    0.8289\n",
       "1.52004    0.8296\n",
       "...           ...\n",
       "3.97996    0.8573\n",
       "3.98497    0.8555\n",
       "3.98998    0.8537\n",
       "3.99499    0.8519\n",
       "4.00000    0.8501\n",
       "\n",
       "[500 rows x 1 columns]"
      ]
     },
     "execution_count": 9,
     "metadata": {},
     "output_type": "execute_result"
    }
   ],
   "source": [
    "\n",
    "rsq_df"
   ]
  },
  {
   "cell_type": "code",
   "execution_count": 10,
   "id": "streaming-opinion",
   "metadata": {},
   "outputs": [
    {
     "name": "stdout",
     "output_type": "stream",
     "text": [
      "0.9964\n",
      "3.0831663326653307\n",
      "0.3243418914527137\n"
     ]
    },
    {
     "data": {
      "image/png": "[encoded data removed]",
      "text/plain": [
       "<Figure size 432x288 with 1 Axes>"
      ]
     },
     "metadata": {},
     "output_type": "display_data"
    }
   ],
   "source": [
    "print(rsq_df[\"Rsquared\"].max())\n",
    "print(rsq_df[\"Rsquared\"].idxmax())\n",
    "print(1/rsq_df[\"Rsquared\"].idxmax())\n",
    "rsq_df.plot(y='Rsquared', kind = 'line')\n",
    "plt.xlabel(\"Exponent(r)_value\", fontsize=16)\n",
    "plt.ylabel( \"R_squared_value\", fontsize=16)\n",
    "plt.margins(0.2)\n",
    "plt.show()"
   ]
  },
  {
   "cell_type": "code",
   "execution_count": null,
   "id": "amended-purchase",
   "metadata": {},
   "outputs": [],
   "source": []
  },
  {
   "cell_type": "code",
   "execution_count": null,
   "id": "average-maria",
   "metadata": {},
   "outputs": [],
   "source": []
  }
 ],
 "metadata": {
  "celltoolbar": "Raw Cell Format",
  "kernelspec": {
   "display_name": "Python 3",
   "language": "python",
   "name": "python3"
  },
  "language_info": {
   "codemirror_mode": {
    "name": "ipython",
    "version": 3
   },
   "file_extension": ".py",
   "mimetype": "text/x-python",
   "name": "python",
   "nbconvert_exporter": "python",
   "pygments_lexer": "ipython3",
   "version": "3.8.3"
  }
 },
 "nbformat": 4,
 "nbformat_minor": 5
}

{
 "cells": [
  {
   "cell_type": "code",
   "execution_count": 1,
   "id": "actual-european",
   "metadata": {},
   "outputs": [],
   "source": [
    "# sigmoid curve fitting is from the https://gist.github.com/andrewgiessel/5684769\n",
    "# good discussion here:  http://stackoverflow.com/questions/4308168/sigmoidal-regression-with-scipy-numpy-python-etc"
   ]
  },
  {
   "cell_type": "markdown",
   "id": "portable-radius",
   "metadata": {},
   "source": [
    "## Import dependecies and define fuctions"
   ]
  },
  {
   "cell_type": "code",
   "execution_count": 2,
   "id": "novel-jamaica",
   "metadata": {},
   "outputs": [],
   "source": [
    "import numpy as np\n",
    "import pandas as pd\n",
    "import matplotlib.pyplot as plt\n",
    "%matplotlib inline\n",
    "import scipy.optimize as opt\n",
    "from scipy.optimize import fsolve\n",
    "from sklearn.metrics import r2_score"
   ]
  },
  {
   "cell_type": "code",
   "execution_count": 3,
   "id": "executive-malawi",
   "metadata": {},
   "outputs": [],
   "source": [
    "# Define the opwer function\n",
    "# define a : rate_constant, b: exponent c:logistic Intercept\n",
    "def power(x, a, b, c):\n",
    "    return a * (x)**b + c\n",
    "\n",
    "\n",
    "# define fit fuction\n",
    "\n",
    "def fit_power(x, y):\n",
    "    # nonlinear least squares curve fitting with sigmoid fuction\n",
    "    # bounds are the Lower and upper bounds on parameters. Important to avoid the covariance error\n",
    "    \n",
    "    (a_, b_, c_), _ = opt.curve_fit(power, x, y, bounds=([0, -2, 0], [1, 2., 5]))\n",
    "\n",
    "    #print a, b, c values\n",
    "    print (\"a_(rate_constant): \" + str(a_),  \"  b_(exponent): \" + str(b_), \"  c_(Intercept): \" + str(c_))\n",
    "\n",
    "\n",
    "    # fitting with sigmoid fuction\n",
    "    y_fit = power(x, a_, b_, c_)\n",
    "\n",
    "    print('R^2: ', r2_score(y_fit, y))\n",
    "\n",
    "\n",
    "\n",
    "    # plot with 10- 90% window\n",
    "    fig, ax = plt.subplots(1, 1, figsize=(6, 4))\n",
    "    ax.plot(x, y, 'ro')\n",
    "    ax.plot(x, y_fit, 'b-')\n",
    "    plt.xlabel(\"Radius (nm)\", fontsize=14)\n",
    "    plt.ylabel('Width   (nm)', fontsize=14)\n",
    "    plt.rc('xtick',labelsize=12)\n",
    "    plt.rc('ytick',labelsize=12)\n",
    "    plt.xlim([0, 40])\n",
    "\n",
    "    return\n"
   ]
  },
  {
   "cell_type": "code",
   "execution_count": null,
   "id": "excessive-communist",
   "metadata": {},
   "outputs": [],
   "source": []
  },
  {
   "cell_type": "code",
   "execution_count": null,
   "id": "virgin-madison",
   "metadata": {},
   "outputs": [],
   "source": []
  },
  {
   "cell_type": "markdown",
   "id": "retained-usage",
   "metadata": {},
   "source": [
    "## Import data and assign the x, y values "
   ]
  },
  {
   "cell_type": "code",
   "execution_count": 4,
   "id": "imported-wrestling",
   "metadata": {},
   "outputs": [],
   "source": [
    "# import csv data\n",
    "df= pd.read_csv('time_width.csv') "
   ]
  },
  {
   "cell_type": "code",
   "execution_count": 5,
   "id": "incorrect-confirmation",
   "metadata": {},
   "outputs": [
    {
     "data": {
      "text/plain": [
       "(8, 11)"
      ]
     },
     "execution_count": 5,
     "metadata": {},
     "output_type": "execute_result"
    }
   ],
   "source": [
    "df.shape"
   ]
  },
  {
   "cell_type": "code",
   "execution_count": 6,
   "id": "operating-saskatchewan",
   "metadata": {},
   "outputs": [
    {
     "data": {
      "text/html": [
       "<div>\n",
       "<style scoped>\n",
       "    .dataframe tbody tr th:only-of-type {\n",
       "        vertical-align: middle;\n",
       "    }\n",
       "\n",
       "    .dataframe tbody tr th {\n",
       "        vertical-align: top;\n",
       "    }\n",
       "\n",
       "    .dataframe thead th {\n",
       "        text-align: right;\n",
       "    }\n",
       "</style>\n",
       "<table border=\"1\" class=\"dataframe\">\n",
       "  <thead>\n",
       "    <tr style=\"text-align: right;\">\n",
       "      <th></th>\n",
       "      <th>time</th>\n",
       "      <th>Radius</th>\n",
       "      <th>R_err</th>\n",
       "      <th>Ni</th>\n",
       "      <th>Ni_err</th>\n",
       "      <th>Al</th>\n",
       "      <th>Al_err</th>\n",
       "      <th>Cr</th>\n",
       "      <th>Cr_err</th>\n",
       "      <th>Re</th>\n",
       "      <th>Re_err</th>\n",
       "    </tr>\n",
       "  </thead>\n",
       "  <tbody>\n",
       "    <tr>\n",
       "      <th>count</th>\n",
       "      <td>8.000000</td>\n",
       "      <td>8.000000</td>\n",
       "      <td>8.000000</td>\n",
       "      <td>8.000000</td>\n",
       "      <td>8.000000</td>\n",
       "      <td>8.000000</td>\n",
       "      <td>8.000000</td>\n",
       "      <td>8.000000</td>\n",
       "      <td>8.000000</td>\n",
       "      <td>8.000000</td>\n",
       "      <td>8.000000</td>\n",
       "    </tr>\n",
       "    <tr>\n",
       "      <th>mean</th>\n",
       "      <td>170.656250</td>\n",
       "      <td>9.488164</td>\n",
       "      <td>2.443530</td>\n",
       "      <td>1.521931</td>\n",
       "      <td>0.115995</td>\n",
       "      <td>1.766320</td>\n",
       "      <td>0.052471</td>\n",
       "      <td>1.991971</td>\n",
       "      <td>0.078488</td>\n",
       "      <td>2.052752</td>\n",
       "      <td>0.105291</td>\n",
       "    </tr>\n",
       "    <tr>\n",
       "      <th>std</th>\n",
       "      <td>355.666902</td>\n",
       "      <td>9.429036</td>\n",
       "      <td>2.145400</td>\n",
       "      <td>0.302045</td>\n",
       "      <td>0.101478</td>\n",
       "      <td>0.140674</td>\n",
       "      <td>0.049564</td>\n",
       "      <td>0.109146</td>\n",
       "      <td>0.083858</td>\n",
       "      <td>0.496257</td>\n",
       "      <td>0.078320</td>\n",
       "    </tr>\n",
       "    <tr>\n",
       "      <th>min</th>\n",
       "      <td>0.000000</td>\n",
       "      <td>1.057415</td>\n",
       "      <td>0.251052</td>\n",
       "      <td>1.239100</td>\n",
       "      <td>0.007498</td>\n",
       "      <td>1.598728</td>\n",
       "      <td>0.007976</td>\n",
       "      <td>1.881328</td>\n",
       "      <td>0.012125</td>\n",
       "      <td>1.456402</td>\n",
       "      <td>0.024230</td>\n",
       "    </tr>\n",
       "    <tr>\n",
       "      <th>25%</th>\n",
       "      <td>0.812500</td>\n",
       "      <td>2.855657</td>\n",
       "      <td>1.087890</td>\n",
       "      <td>1.268798</td>\n",
       "      <td>0.031093</td>\n",
       "      <td>1.684221</td>\n",
       "      <td>0.011638</td>\n",
       "      <td>1.919962</td>\n",
       "      <td>0.015127</td>\n",
       "      <td>1.607174</td>\n",
       "      <td>0.032595</td>\n",
       "    </tr>\n",
       "    <tr>\n",
       "      <th>50%</th>\n",
       "      <td>10.000000</td>\n",
       "      <td>6.242870</td>\n",
       "      <td>1.855000</td>\n",
       "      <td>1.434684</td>\n",
       "      <td>0.080328</td>\n",
       "      <td>1.734930</td>\n",
       "      <td>0.029348</td>\n",
       "      <td>1.944114</td>\n",
       "      <td>0.039421</td>\n",
       "      <td>2.054757</td>\n",
       "      <td>0.100782</td>\n",
       "    </tr>\n",
       "    <tr>\n",
       "      <th>75%</th>\n",
       "      <td>112.000000</td>\n",
       "      <td>12.752500</td>\n",
       "      <td>3.355000</td>\n",
       "      <td>1.703453</td>\n",
       "      <td>0.219830</td>\n",
       "      <td>1.836962</td>\n",
       "      <td>0.097181</td>\n",
       "      <td>2.058662</td>\n",
       "      <td>0.122242</td>\n",
       "      <td>2.372741</td>\n",
       "      <td>0.147822</td>\n",
       "    </tr>\n",
       "    <tr>\n",
       "      <th>max</th>\n",
       "      <td>1024.000000</td>\n",
       "      <td>28.457725</td>\n",
       "      <td>6.630000</td>\n",
       "      <td>2.040853</td>\n",
       "      <td>0.259986</td>\n",
       "      <td>2.022094</td>\n",
       "      <td>0.123236</td>\n",
       "      <td>2.191606</td>\n",
       "      <td>0.238989</td>\n",
       "      <td>2.806858</td>\n",
       "      <td>0.229952</td>\n",
       "    </tr>\n",
       "  </tbody>\n",
       "</table>\n",
       "</div>"
      ],
      "text/plain": [
       "              time     Radius     R_err        Ni    Ni_err        Al  \\\n",
       "count     8.000000   8.000000  8.000000  8.000000  8.000000  8.000000   \n",
       "mean    170.656250   9.488164  2.443530  1.521931  0.115995  1.766320   \n",
       "std     355.666902   9.429036  2.145400  0.302045  0.101478  0.140674   \n",
       "min       0.000000   1.057415  0.251052  1.239100  0.007498  1.598728   \n",
       "25%       0.812500   2.855657  1.087890  1.268798  0.031093  1.684221   \n",
       "50%      10.000000   6.242870  1.855000  1.434684  0.080328  1.734930   \n",
       "75%     112.000000  12.752500  3.355000  1.703453  0.219830  1.836962   \n",
       "max    1024.000000  28.457725  6.630000  2.040853  0.259986  2.022094   \n",
       "\n",
       "         Al_err        Cr    Cr_err        Re    Re_err  \n",
       "count  8.000000  8.000000  8.000000  8.000000  8.000000  \n",
       "mean   0.052471  1.991971  0.078488  2.052752  0.105291  \n",
       "std    0.049564  0.109146  0.083858  0.496257  0.078320  \n",
       "min    0.007976  1.881328  0.012125  1.456402  0.024230  \n",
       "25%    0.011638  1.919962  0.015127  1.607174  0.032595  \n",
       "50%    0.029348  1.944114  0.039421  2.054757  0.100782  \n",
       "75%    0.097181  2.058662  0.122242  2.372741  0.147822  \n",
       "max    0.123236  2.191606  0.238989  2.806858  0.229952  "
      ]
     },
     "execution_count": 6,
     "metadata": {},
     "output_type": "execute_result"
    }
   ],
   "source": [
    "df.describe()"
   ]
  },
  {
   "cell_type": "markdown",
   "id": "fatal-planning",
   "metadata": {},
   "source": [
    "## Obtain Ni, Al, Re values using the for-loop "
   ]
  },
  {
   "cell_type": "code",
   "execution_count": 7,
   "id": "acquired-cologne",
   "metadata": {},
   "outputs": [
    {
     "name": "stdout",
     "output_type": "stream",
     "text": [
      "\n",
      " Element Ni\n",
      "a_(rate_constant): 0.9999999999999999   b_(exponent): -0.577106196266544   c_(Intercept): 1.0897418516919524\n",
      "R^2:  0.9559848150356792\n",
      "\n",
      " Element Al\n",
      "a_(rate_constant): 0.5316186253675038   b_(exponent): -0.4663974731875923   c_(Intercept): 1.5036202864875934\n",
      "R^2:  0.9562988699687732\n",
      "\n",
      " Element Re\n",
      "a_(rate_constant): 0.999999999999931   b_(exponent): 0.26816584236426283   c_(Intercept): 0.3842359229481981\n",
      "R^2:  0.9765304862864661\n"
     ]
    },
    {
     "data": {
      "image/png": "[encoded data removed]",
      "text/plain": [
       "<Figure size 432x288 with 1 Axes>"
      ]
     },
     "metadata": {
      "needs_background": "light"
     },
     "output_type": "display_data"
    },
    {
     "data": {
      "image/png": "[encoded data removed]",
      "text/plain": [
       "<Figure size 432x288 with 1 Axes>"
      ]
     },
     "metadata": {
      "needs_background": "light"
     },
     "output_type": "display_data"
    },
    {
     "data": {
      "image/png": "[encoded data removed]",
      "text/plain": [
       "<Figure size 432x288 with 1 Axes>"
      ]
     },
     "metadata": {
      "needs_background": "light"
     },
     "output_type": "display_data"
    }
   ],
   "source": [
    "# maximun, Minimum, 90%, 10%, x-widthe using for-loop \n",
    "for i in ['Ni', 'Al', 'Re']:\n",
    "    # assigne x and y values\n",
    "    x = df['Radius'].to_numpy()\n",
    "    y = df[i].to_numpy()\n",
    "    print(\"\\n Element\", i)\n",
    "    fit_power(x, y)"
   ]
  },
  {
   "cell_type": "markdown",
   "id": "interracial-server",
   "metadata": {},
   "source": [
    "## Obtain Cr values with offset"
   ]
  },
  {
   "cell_type": "code",
   "execution_count": 8,
   "id": "going-wilson",
   "metadata": {},
   "outputs": [],
   "source": [
    "# Define the opwer function for Cr\n",
    "# define a : rate_constant, b: exponent c:logistic Intercept, x0: offset\n",
    "\n",
    "x0 = 4\n",
    "def power(x, a, b, c, x0):\n",
    "    return a * (x-x0)**b + c\n",
    "\n",
    "\n",
    "\n",
    "# define fit fuction\n",
    "\n",
    "def fit_power(x, y):\n",
    "    # nonlinear least squares curve fitting with sigmoid fuction\n",
    "    # bounds are the Lower and upper bounds on parameters. Important to avoid the covariance error\n",
    "    \n",
    "    (a_, b_, c_), _ = opt.curve_fit(power, x, y, bounds=([0, -2, 0], [1, 2., 5]))\n",
    "\n",
    "    #print a, b, c values\n",
    "    print (\"a_(rate_constant): \" + str(a_),  \"  b_(exponent): \" + str(b_), \"  c_(Intercept): \" + str(c_))\n",
    "\n",
    "\n",
    "    # fitting with sigmoid fuction\n",
    "    y_fit = power(x, a_, b_, c_)\n",
    "\n",
    "    print('R^2: ', r2_score(y_fit, y))\n",
    "\n",
    "\n",
    "\n",
    "    # plot with 10- 90% window\n",
    "    fig, ax = plt.subplots(1, 1, figsize=(6, 4))\n",
    "    ax.plot(x, y, 'ro')\n",
    "    ax.plot(x, y_fit, 'b-')\n",
    "    plt.xlabel(\"Radius (nm)\", fontsize=14)\n",
    "    plt.ylabel('Width   (nm)', fontsize=14)\n",
    "    plt.rc('xtick',labelsize=12)\n",
    "    plt.rc('ytick',labelsize=12)\n",
    "    plt.xlim([0, 40])\n",
    "\n",
    "    return\n"
   ]
  },
  {
   "cell_type": "code",
   "execution_count": 9,
   "id": "nasty-baghdad",
   "metadata": {},
   "outputs": [
    {
     "name": "stdout",
     "output_type": "stream",
     "text": [
      "\n",
      " Element Cr\n"
     ]
    },
    {
     "ename": "TypeError",
     "evalue": "power() missing 1 required positional argument: 'x0'",
     "output_type": "error",
     "traceback": [
      "\u001b[1;31m---------------------------------------------------------------------------\u001b[0m",
      "\u001b[1;31mTypeError\u001b[0m                                 Traceback (most recent call last)",
      "\u001b[1;32m<ipython-input-9-8f39db877abb>\u001b[0m in \u001b[0;36m<module>\u001b[1;34m\u001b[0m\n\u001b[0;32m      5\u001b[0m     \u001b[0my\u001b[0m \u001b[1;33m=\u001b[0m \u001b[0mdf\u001b[0m\u001b[1;33m[\u001b[0m\u001b[0mi\u001b[0m\u001b[1;33m]\u001b[0m\u001b[1;33m.\u001b[0m\u001b[0mto_numpy\u001b[0m\u001b[1;33m(\u001b[0m\u001b[1;33m)\u001b[0m\u001b[1;33m\u001b[0m\u001b[1;33m\u001b[0m\u001b[0m\n\u001b[0;32m      6\u001b[0m     \u001b[0mprint\u001b[0m\u001b[1;33m(\u001b[0m\u001b[1;34m\"\\n Element\"\u001b[0m\u001b[1;33m,\u001b[0m \u001b[0mi\u001b[0m\u001b[1;33m)\u001b[0m\u001b[1;33m\u001b[0m\u001b[1;33m\u001b[0m\u001b[0m\n\u001b[1;32m----> 7\u001b[1;33m     \u001b[0mfit_power\u001b[0m\u001b[1;33m(\u001b[0m\u001b[0mx\u001b[0m\u001b[1;33m,\u001b[0m \u001b[0my\u001b[0m\u001b[1;33m)\u001b[0m\u001b[1;33m\u001b[0m\u001b[1;33m\u001b[0m\u001b[0m\n\u001b[0m",
      "\u001b[1;32m<ipython-input-8-f61d3f3ba14f>\u001b[0m in \u001b[0;36mfit_power\u001b[1;34m(x, y)\u001b[0m\n\u001b[0;32m     14\u001b[0m     \u001b[1;31m# bounds are the Lower and upper bounds on parameters. Important to avoid the covariance error\u001b[0m\u001b[1;33m\u001b[0m\u001b[1;33m\u001b[0m\u001b[1;33m\u001b[0m\u001b[0m\n\u001b[0;32m     15\u001b[0m \u001b[1;33m\u001b[0m\u001b[0m\n\u001b[1;32m---> 16\u001b[1;33m     \u001b[1;33m(\u001b[0m\u001b[0ma_\u001b[0m\u001b[1;33m,\u001b[0m \u001b[0mb_\u001b[0m\u001b[1;33m,\u001b[0m \u001b[0mc_\u001b[0m\u001b[1;33m)\u001b[0m\u001b[1;33m,\u001b[0m \u001b[0m_\u001b[0m \u001b[1;33m=\u001b[0m \u001b[0mopt\u001b[0m\u001b[1;33m.\u001b[0m\u001b[0mcurve_fit\u001b[0m\u001b[1;33m(\u001b[0m\u001b[0mpower\u001b[0m\u001b[1;33m,\u001b[0m \u001b[0mx\u001b[0m\u001b[1;33m,\u001b[0m \u001b[0my\u001b[0m\u001b[1;33m,\u001b[0m \u001b[0mbounds\u001b[0m\u001b[1;33m=\u001b[0m\u001b[1;33m(\u001b[0m\u001b[1;33m[\u001b[0m\u001b[1;36m0\u001b[0m\u001b[1;33m,\u001b[0m \u001b[1;33m-\u001b[0m\u001b[1;36m2\u001b[0m\u001b[1;33m,\u001b[0m \u001b[1;36m0\u001b[0m\u001b[1;33m]\u001b[0m\u001b[1;33m,\u001b[0m \u001b[1;33m[\u001b[0m\u001b[1;36m1\u001b[0m\u001b[1;33m,\u001b[0m \u001b[1;36m2.\u001b[0m\u001b[1;33m,\u001b[0m \u001b[1;36m5\u001b[0m\u001b[1;33m]\u001b[0m\u001b[1;33m)\u001b[0m\u001b[1;33m)\u001b[0m\u001b[1;33m\u001b[0m\u001b[1;33m\u001b[0m\u001b[0m\n\u001b[0m\u001b[0;32m     17\u001b[0m \u001b[1;33m\u001b[0m\u001b[0m\n\u001b[0;32m     18\u001b[0m     \u001b[1;31m#print a, b, c values\u001b[0m\u001b[1;33m\u001b[0m\u001b[1;33m\u001b[0m\u001b[1;33m\u001b[0m\u001b[0m\n",
      "\u001b[1;32m~\\anaconda3\\lib\\site-packages\\scipy\\optimize\\minpack.py\u001b[0m in \u001b[0;36mcurve_fit\u001b[1;34m(f, xdata, ydata, p0, sigma, absolute_sigma, check_finite, bounds, method, jac, **kwargs)\u001b[0m\n\u001b[0;32m    793\u001b[0m             \u001b[0mkwargs\u001b[0m\u001b[1;33m[\u001b[0m\u001b[1;34m'max_nfev'\u001b[0m\u001b[1;33m]\u001b[0m \u001b[1;33m=\u001b[0m \u001b[0mkwargs\u001b[0m\u001b[1;33m.\u001b[0m\u001b[0mpop\u001b[0m\u001b[1;33m(\u001b[0m\u001b[1;34m'maxfev'\u001b[0m\u001b[1;33m,\u001b[0m \u001b[1;32mNone\u001b[0m\u001b[1;33m)\u001b[0m\u001b[1;33m\u001b[0m\u001b[1;33m\u001b[0m\u001b[0m\n\u001b[0;32m    794\u001b[0m \u001b[1;33m\u001b[0m\u001b[0m\n\u001b[1;32m--> 795\u001b[1;33m         res = least_squares(func, p0, jac=jac, bounds=bounds, method=method,\n\u001b[0m\u001b[0;32m    796\u001b[0m                             **kwargs)\n\u001b[0;32m    797\u001b[0m \u001b[1;33m\u001b[0m\u001b[0m\n",
      "\u001b[1;32m~\\anaconda3\\lib\\site-packages\\scipy\\optimize\\_lsq\\least_squares.py\u001b[0m in \u001b[0;36mleast_squares\u001b[1;34m(fun, x0, jac, bounds, method, ftol, xtol, gtol, x_scale, loss, f_scale, diff_step, tr_solver, tr_options, jac_sparsity, max_nfev, verbose, args, kwargs)\u001b[0m\n\u001b[0;32m    805\u001b[0m         \u001b[0mx0\u001b[0m \u001b[1;33m=\u001b[0m \u001b[0mmake_strictly_feasible\u001b[0m\u001b[1;33m(\u001b[0m\u001b[0mx0\u001b[0m\u001b[1;33m,\u001b[0m \u001b[0mlb\u001b[0m\u001b[1;33m,\u001b[0m \u001b[0mub\u001b[0m\u001b[1;33m)\u001b[0m\u001b[1;33m\u001b[0m\u001b[1;33m\u001b[0m\u001b[0m\n\u001b[0;32m    806\u001b[0m \u001b[1;33m\u001b[0m\u001b[0m\n\u001b[1;32m--> 807\u001b[1;33m     \u001b[0mf0\u001b[0m \u001b[1;33m=\u001b[0m \u001b[0mfun_wrapped\u001b[0m\u001b[1;33m(\u001b[0m\u001b[0mx0\u001b[0m\u001b[1;33m)\u001b[0m\u001b[1;33m\u001b[0m\u001b[1;33m\u001b[0m\u001b[0m\n\u001b[0m\u001b[0;32m    808\u001b[0m \u001b[1;33m\u001b[0m\u001b[0m\n\u001b[0;32m    809\u001b[0m     \u001b[1;32mif\u001b[0m \u001b[0mf0\u001b[0m\u001b[1;33m.\u001b[0m\u001b[0mndim\u001b[0m \u001b[1;33m!=\u001b[0m \u001b[1;36m1\u001b[0m\u001b[1;33m:\u001b[0m\u001b[1;33m\u001b[0m\u001b[1;33m\u001b[0m\u001b[0m\n",
      "\u001b[1;32m~\\anaconda3\\lib\\site-packages\\scipy\\optimize\\_lsq\\least_squares.py\u001b[0m in \u001b[0;36mfun_wrapped\u001b[1;34m(x)\u001b[0m\n\u001b[0;32m    800\u001b[0m \u001b[1;33m\u001b[0m\u001b[0m\n\u001b[0;32m    801\u001b[0m     \u001b[1;32mdef\u001b[0m \u001b[0mfun_wrapped\u001b[0m\u001b[1;33m(\u001b[0m\u001b[0mx\u001b[0m\u001b[1;33m)\u001b[0m\u001b[1;33m:\u001b[0m\u001b[1;33m\u001b[0m\u001b[1;33m\u001b[0m\u001b[0m\n\u001b[1;32m--> 802\u001b[1;33m         \u001b[1;32mreturn\u001b[0m \u001b[0mnp\u001b[0m\u001b[1;33m.\u001b[0m\u001b[0matleast_1d\u001b[0m\u001b[1;33m(\u001b[0m\u001b[0mfun\u001b[0m\u001b[1;33m(\u001b[0m\u001b[0mx\u001b[0m\u001b[1;33m,\u001b[0m \u001b[1;33m*\u001b[0m\u001b[0margs\u001b[0m\u001b[1;33m,\u001b[0m \u001b[1;33m**\u001b[0m\u001b[0mkwargs\u001b[0m\u001b[1;33m)\u001b[0m\u001b[1;33m)\u001b[0m\u001b[1;33m\u001b[0m\u001b[1;33m\u001b[0m\u001b[0m\n\u001b[0m\u001b[0;32m    803\u001b[0m \u001b[1;33m\u001b[0m\u001b[0m\n\u001b[0;32m    804\u001b[0m     \u001b[1;32mif\u001b[0m \u001b[0mmethod\u001b[0m \u001b[1;33m==\u001b[0m \u001b[1;34m'trf'\u001b[0m\u001b[1;33m:\u001b[0m\u001b[1;33m\u001b[0m\u001b[1;33m\u001b[0m\u001b[0m\n",
      "\u001b[1;32m~\\anaconda3\\lib\\site-packages\\scipy\\optimize\\minpack.py\u001b[0m in \u001b[0;36mfunc_wrapped\u001b[1;34m(params)\u001b[0m\n\u001b[0;32m    482\u001b[0m     \u001b[1;32mif\u001b[0m \u001b[0mtransform\u001b[0m \u001b[1;32mis\u001b[0m \u001b[1;32mNone\u001b[0m\u001b[1;33m:\u001b[0m\u001b[1;33m\u001b[0m\u001b[1;33m\u001b[0m\u001b[0m\n\u001b[0;32m    483\u001b[0m         \u001b[1;32mdef\u001b[0m \u001b[0mfunc_wrapped\u001b[0m\u001b[1;33m(\u001b[0m\u001b[0mparams\u001b[0m\u001b[1;33m)\u001b[0m\u001b[1;33m:\u001b[0m\u001b[1;33m\u001b[0m\u001b[1;33m\u001b[0m\u001b[0m\n\u001b[1;32m--> 484\u001b[1;33m             \u001b[1;32mreturn\u001b[0m \u001b[0mfunc\u001b[0m\u001b[1;33m(\u001b[0m\u001b[0mxdata\u001b[0m\u001b[1;33m,\u001b[0m \u001b[1;33m*\u001b[0m\u001b[0mparams\u001b[0m\u001b[1;33m)\u001b[0m \u001b[1;33m-\u001b[0m \u001b[0mydata\u001b[0m\u001b[1;33m\u001b[0m\u001b[1;33m\u001b[0m\u001b[0m\n\u001b[0m\u001b[0;32m    485\u001b[0m     \u001b[1;32melif\u001b[0m \u001b[0mtransform\u001b[0m\u001b[1;33m.\u001b[0m\u001b[0mndim\u001b[0m \u001b[1;33m==\u001b[0m \u001b[1;36m1\u001b[0m\u001b[1;33m:\u001b[0m\u001b[1;33m\u001b[0m\u001b[1;33m\u001b[0m\u001b[0m\n\u001b[0;32m    486\u001b[0m         \u001b[1;32mdef\u001b[0m \u001b[0mfunc_wrapped\u001b[0m\u001b[1;33m(\u001b[0m\u001b[0mparams\u001b[0m\u001b[1;33m)\u001b[0m\u001b[1;33m:\u001b[0m\u001b[1;33m\u001b[0m\u001b[1;33m\u001b[0m\u001b[0m\n",
      "\u001b[1;31mTypeError\u001b[0m: power() missing 1 required positional argument: 'x0'"
     ]
    }
   ],
   "source": [
    "# maximun, Minimum, 90%, 10%, x-widthe using for-loop \n",
    "for i in ['Cr']:\n",
    "    # assigne x and y values\n",
    "    x = df['Radius'].to_numpy()\n",
    "    y = df[i].to_numpy()\n",
    "    print(\"\\n Element\", i)\n",
    "    fit_power(x, y)"
   ]
  },
  {
   "cell_type": "code",
   "execution_count": null,
   "id": "metropolitan-value",
   "metadata": {},
   "outputs": [],
   "source": []
  }
 ],
 "metadata": {
  "celltoolbar": "Raw Cell Format",
  "kernelspec": {
   "display_name": "Python 3",
   "language": "python",
   "name": "python3"
  },
  "language_info": {
   "codemirror_mode": {
    "name": "ipython",
    "version": 3
   },
   "file_extension": ".py",
   "mimetype": "text/x-python",
   "name": "python",
   "nbconvert_exporter": "python",
   "pygments_lexer": "ipython3",
   "version": "3.8.3"
  }
 },
 "nbformat": 4,
 "nbformat_minor": 5
}
